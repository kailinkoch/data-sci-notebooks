{
 "cells": [
  {
   "cell_type": "markdown",
   "id": "9c2a620d-3691-4c5d-89b0-55f45473a37f",
   "metadata": {},
   "source": [
    "## B is for Bakasana | Batching"
   ]
  },
  {
   "cell_type": "code",
   "execution_count": 100,
   "id": "63d8bf8a-42df-45b5-93a0-891cbd3c000b",
   "metadata": {},
   "outputs": [],
   "source": [
    "import pandas as pd\n",
    "import polars as pl\n",
    "import numpy as np"
   ]
  },
  {
   "cell_type": "code",
   "execution_count": 101,
   "id": "27aeb60d-cf6d-4376-874c-e118e45eca6b",
   "metadata": {},
   "outputs": [],
   "source": [
    "# dataset: https://en.wikipedia.org/wiki/List_of_asanas\n",
    "data_path = \"~/Desktop/yoga.csv\" # fill in your data_path \n",
    "lg_data_path = \"~/Desktop/yoga_large.csv\" # fill in your data_path "
   ]
  },
  {
   "cell_type": "code",
   "execution_count": 102,
   "id": "56fc1bdd-26d6-43a7-aa9f-8921e30b5a6d",
   "metadata": {},
   "outputs": [
    {
     "name": "stdout",
     "output_type": "stream",
     "text": [
      "Batch Size:  16 [16, 16, 16, 16, 16, 11]\n",
      "Batch Size:  32 [32, 32, 27]\n",
      "Batch Size:  64 [64, 27]\n"
     ]
    }
   ],
   "source": [
    "example_dataset = np.random.rand(91,91)\n",
    "batch_sizes = [16,32, 64]\n",
    "\n",
    "for size in batch_sizes:\n",
    "    batches = [example_dataset[i: i + size] for i in range(0, len(example_dataset), size)]\n",
    "    print(\"Batch Size: \", size, [len(b) for b in batches])"
   ]
  },
  {
   "cell_type": "code",
   "execution_count": 103,
   "id": "5e72a430-6c66-4840-8f05-cf2d13f50fe9",
   "metadata": {},
   "outputs": [
    {
     "name": "stdout",
     "output_type": "stream",
     "text": [
      "Length of full dataset:  2184\n",
      "Number of batches:  2\n",
      "\t Batch Size:  1790\n",
      "\t Batch Size:  394\n"
     ]
    }
   ],
   "source": [
    "# polars\n",
    "\n",
    "yoga_dataframe_full = pl.read_csv(lg_data_path)\n",
    "print(\"Length of full dataset: \", len(yoga_dataframe_full))\n",
    "\n",
    "# batching\n",
    "yoga_dataframe = pl.read_csv_batched(lg_data_path)\n",
    "batches = yoga_dataframe.next_batches(5)  \n",
    "print(\"Number of batches: \", len(batches))\n",
    "for batch in batches:\n",
    "    print(\"\\t Batch Size: \", len(batch))\n"
   ]
  },
  {
   "cell_type": "code",
   "execution_count": 105,
   "id": "5ff097c8-4b03-49b6-92ec-0b85fcdd24a7",
   "metadata": {},
   "outputs": [
    {
     "name": "stdout",
     "output_type": "stream",
     "text": [
      "Length of full dataset:  91\n",
      "\n",
      "batch_size:  16\n",
      "\tBatch Size:  16\n",
      "\tBatch Size:  16\n",
      "\tBatch Size:  16\n",
      "\tBatch Size:  16\n",
      "\tBatch Size:  16\n",
      "\tBatch Size:  11\n",
      "\n",
      "batch_size:  32\n",
      "\tBatch Size:  32\n",
      "\tBatch Size:  32\n",
      "\tBatch Size:  27\n",
      "\n",
      "batch_size:  64\n",
      "\tBatch Size:  64\n",
      "\tBatch Size:  27\n"
     ]
    }
   ],
   "source": [
    "# pandas\n",
    "\n",
    "yoga_dataframe_full = pd.read_csv(data_path)\n",
    "print(\"Length of full dataset: \", len(yoga_dataframe_full))\n",
    "\n",
    "# batching\n",
    "batch_sizes = [16,32,64]\n",
    "for size in batch_sizes:\n",
    "    print(\"\\nbatch_size: \", size)\n",
    "    yoga_dataframe = pd.read_csv(data_path, chunksize = size)\n",
    "    \n",
    "    for chunk in yoga_dataframe:\n",
    "        print(\"\\tBatch Size: \", len(chunk))"
   ]
  }
 ],
 "metadata": {
  "kernelspec": {
   "display_name": "Python 3 (ipykernel)",
   "language": "python",
   "name": "python3"
  },
  "language_info": {
   "codemirror_mode": {
    "name": "ipython",
    "version": 3
   },
   "file_extension": ".py",
   "mimetype": "text/x-python",
   "name": "python",
   "nbconvert_exporter": "python",
   "pygments_lexer": "ipython3",
   "version": "3.9.17"
  }
 },
 "nbformat": 4,
 "nbformat_minor": 5
}
