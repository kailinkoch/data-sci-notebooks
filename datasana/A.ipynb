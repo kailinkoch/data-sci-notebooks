{
 "cells": [
  {
   "cell_type": "markdown",
   "id": "1861527b-963f-4374-b803-b30eec81ff22",
   "metadata": {},
   "source": [
    "# A is for Adho Mukha Shvanasana | Apply | Argmax"
   ]
  },
  {
   "cell_type": "code",
   "execution_count": 38,
   "id": "9715f710-01af-4b22-9e6f-2119243d15df",
   "metadata": {},
   "outputs": [],
   "source": [
    "import os\n",
    "import re\n",
    "import numpy as np\n",
    "import pandas as pd"
   ]
  },
  {
   "cell_type": "code",
   "execution_count": 52,
   "id": "06f1d1ea-ec0f-4e57-a30a-4ef6d2d481e7",
   "metadata": {},
   "outputs": [],
   "source": [
    "# dataset: https://en.wikipedia.org/wiki/List_of_asanas\n",
    "data_path = \"~/Desktop/yoga.csv\" # fill in your data_path "
   ]
  },
  {
   "cell_type": "code",
   "execution_count": 53,
   "id": "287169a9-9d7f-4f1f-b1f2-1e39c7c951a3",
   "metadata": {
    "scrolled": true
   },
   "outputs": [
    {
     "data": {
      "text/html": [
       "<div>\n",
       "<style scoped>\n",
       "    .dataframe tbody tr th:only-of-type {\n",
       "        vertical-align: middle;\n",
       "    }\n",
       "\n",
       "    .dataframe tbody tr th {\n",
       "        vertical-align: top;\n",
       "    }\n",
       "\n",
       "    .dataframe thead th {\n",
       "        text-align: right;\n",
       "    }\n",
       "</style>\n",
       "<table border=\"1\" class=\"dataframe\">\n",
       "  <thead>\n",
       "    <tr style=\"text-align: right;\">\n",
       "      <th></th>\n",
       "      <th>Asana</th>\n",
       "      <th>Sanskrit</th>\n",
       "      <th>English</th>\n",
       "      <th>Type</th>\n",
       "    </tr>\n",
       "  </thead>\n",
       "  <tbody>\n",
       "    <tr>\n",
       "      <th>0</th>\n",
       "      <td>Adho Mukha Shvanasana[14]</td>\n",
       "      <td>अधोमुखश्वानासन</td>\n",
       "      <td>Downward-Facing Dog</td>\n",
       "      <td>Standing</td>\n",
       "    </tr>\n",
       "    <tr>\n",
       "      <th>1</th>\n",
       "      <td>Adho Mukha Vrikshasana[17]</td>\n",
       "      <td>अधोमुखवृक्षासन</td>\n",
       "      <td>Downward-Facing Tree, Yoga Handstand</td>\n",
       "      <td>Balancing</td>\n",
       "    </tr>\n",
       "    <tr>\n",
       "      <th>2</th>\n",
       "      <td>Akarna Dhanurasana[19]</td>\n",
       "      <td>आकर्णधनुरासन</td>\n",
       "      <td>Shooting bow, Archer, Bow and arrow</td>\n",
       "      <td>Sitting</td>\n",
       "    </tr>\n",
       "    <tr>\n",
       "      <th>3</th>\n",
       "      <td>Anantasana[21]</td>\n",
       "      <td>अनन्तासन</td>\n",
       "      <td>Ananta's pose, Vishnu's Couch pose</td>\n",
       "      <td>Reclining</td>\n",
       "    </tr>\n",
       "    <tr>\n",
       "      <th>4</th>\n",
       "      <td>Anjaneyasana[23]</td>\n",
       "      <td>अञ्जनेयासन</td>\n",
       "      <td>Crescent Moon[24]</td>\n",
       "      <td>Standing</td>\n",
       "    </tr>\n",
       "  </tbody>\n",
       "</table>\n",
       "</div>"
      ],
      "text/plain": [
       "                        Asana        Sanskrit  \\\n",
       "0   Adho Mukha Shvanasana[14]  अधोमुखश्वानासन   \n",
       "1  Adho Mukha Vrikshasana[17]  अधोमुखवृक्षासन   \n",
       "2      Akarna Dhanurasana[19]    आकर्णधनुरासन   \n",
       "3              Anantasana[21]        अनन्तासन   \n",
       "4            Anjaneyasana[23]      अञ्जनेयासन   \n",
       "\n",
       "                                English       Type  \n",
       "0                   Downward-Facing Dog   Standing  \n",
       "1  Downward-Facing Tree, Yoga Handstand  Balancing  \n",
       "2   Shooting bow, Archer, Bow and arrow    Sitting  \n",
       "3    Ananta's pose, Vishnu's Couch pose  Reclining  \n",
       "4                     Crescent Moon[24]   Standing  "
      ]
     },
     "execution_count": 53,
     "metadata": {},
     "output_type": "execute_result"
    }
   ],
   "source": [
    "yoga_dataframe = pd.read_csv(data_path)\n",
    "yoga_dataframe[\"English\"] = yoga_dataframe.English.str.replace(\"\\n\",\" \")\n",
    "yoga_dataframe.head()"
   ]
  },
  {
   "cell_type": "code",
   "execution_count": 54,
   "id": "800ad66a-b9a2-476d-984f-f26a2af8b825",
   "metadata": {},
   "outputs": [],
   "source": [
    "def remove_citation(string):\n",
    "    \"\"\" Remove the bracketed number following the file name.\n",
    "    \"\"\"\n",
    "    string = re.sub(\"[\\[0-9]{1,2}.]$\", \"\", string)\n",
    "    return string"
   ]
  },
  {
   "cell_type": "code",
   "execution_count": 55,
   "id": "fca1d3b5-b522-41e0-85ba-a9e1d45c1598",
   "metadata": {},
   "outputs": [
    {
     "data": {
      "text/html": [
       "<div>\n",
       "<style scoped>\n",
       "    .dataframe tbody tr th:only-of-type {\n",
       "        vertical-align: middle;\n",
       "    }\n",
       "\n",
       "    .dataframe tbody tr th {\n",
       "        vertical-align: top;\n",
       "    }\n",
       "\n",
       "    .dataframe thead th {\n",
       "        text-align: right;\n",
       "    }\n",
       "</style>\n",
       "<table border=\"1\" class=\"dataframe\">\n",
       "  <thead>\n",
       "    <tr style=\"text-align: right;\">\n",
       "      <th></th>\n",
       "      <th>Asana</th>\n",
       "      <th>Sanskrit</th>\n",
       "      <th>English</th>\n",
       "      <th>Type</th>\n",
       "    </tr>\n",
       "  </thead>\n",
       "  <tbody>\n",
       "    <tr>\n",
       "      <th>0</th>\n",
       "      <td>Adho Mukha Shvanasana</td>\n",
       "      <td>अधोमुखश्वानासन</td>\n",
       "      <td>Downward-Facing Dog</td>\n",
       "      <td>Standing</td>\n",
       "    </tr>\n",
       "    <tr>\n",
       "      <th>1</th>\n",
       "      <td>Adho Mukha Vrikshasana</td>\n",
       "      <td>अधोमुखवृक्षासन</td>\n",
       "      <td>Downward-Facing Tree, Yoga Handstand</td>\n",
       "      <td>Balancing</td>\n",
       "    </tr>\n",
       "    <tr>\n",
       "      <th>2</th>\n",
       "      <td>Akarna Dhanurasana</td>\n",
       "      <td>आकर्णधनुरासन</td>\n",
       "      <td>Shooting bow, Archer, Bow and arrow</td>\n",
       "      <td>Sitting</td>\n",
       "    </tr>\n",
       "    <tr>\n",
       "      <th>3</th>\n",
       "      <td>Anantasana</td>\n",
       "      <td>अनन्तासन</td>\n",
       "      <td>Ananta's pose, Vishnu's Couch pose</td>\n",
       "      <td>Reclining</td>\n",
       "    </tr>\n",
       "    <tr>\n",
       "      <th>4</th>\n",
       "      <td>Anjaneyasana</td>\n",
       "      <td>अञ्जनेयासन</td>\n",
       "      <td>Crescent Moon</td>\n",
       "      <td>Standing</td>\n",
       "    </tr>\n",
       "  </tbody>\n",
       "</table>\n",
       "</div>"
      ],
      "text/plain": [
       "                    Asana        Sanskrit  \\\n",
       "0   Adho Mukha Shvanasana  अधोमुखश्वानासन   \n",
       "1  Adho Mukha Vrikshasana  अधोमुखवृक्षासन   \n",
       "2      Akarna Dhanurasana    आकर्णधनुरासन   \n",
       "3              Anantasana        अनन्तासन   \n",
       "4            Anjaneyasana      अञ्जनेयासन   \n",
       "\n",
       "                                English       Type  \n",
       "0                   Downward-Facing Dog   Standing  \n",
       "1  Downward-Facing Tree, Yoga Handstand  Balancing  \n",
       "2   Shooting bow, Archer, Bow and arrow    Sitting  \n",
       "3    Ananta's pose, Vishnu's Couch pose  Reclining  \n",
       "4                         Crescent Moon   Standing  "
      ]
     },
     "execution_count": 55,
     "metadata": {},
     "output_type": "execute_result"
    }
   ],
   "source": [
    "for col in [\"Asana\", \"English\"]:\n",
    "    yoga_dataframe[col] = yoga_dataframe[col].apply(remove_citation)\n",
    "yoga_dataframe.head()"
   ]
  },
  {
   "cell_type": "code",
   "execution_count": 56,
   "id": "9cf955b7-978c-4de9-8d5f-ac731a4534f1",
   "metadata": {},
   "outputs": [
    {
     "name": "stdout",
     "output_type": "stream",
     "text": [
      "max: 0.4\n",
      "argmax: 3\n",
      "class: virasana\n"
     ]
    }
   ],
   "source": [
    "labels = {\n",
    "    0: \"adho mukha svanasana\",\n",
    "    1: \"bakasana\",\n",
    "    2: \"dandasana\",\n",
    "    3: \"virasana\",\n",
    "    4: \"utkatasana\",\n",
    "}\n",
    "probs = np.array([0.2, 0.2, 0.0, 0.4, 0.2])\n",
    "max = np.max(probs)\n",
    "argmax = np.argmax(probs)\n",
    "\n",
    "print(\"max: {}\".format(max))\n",
    "print(\"argmax: {}\".format(argmax))\n",
    "print(\"class: {}\".format(labels[argmax]))"
   ]
  }
 ],
 "metadata": {
  "kernelspec": {
   "display_name": "Python 3 (ipykernel)",
   "language": "python",
   "name": "python3"
  },
  "language_info": {
   "codemirror_mode": {
    "name": "ipython",
    "version": 3
   },
   "file_extension": ".py",
   "mimetype": "text/x-python",
   "name": "python",
   "nbconvert_exporter": "python",
   "pygments_lexer": "ipython3",
   "version": "3.9.17"
  }
 },
 "nbformat": 4,
 "nbformat_minor": 5
}
