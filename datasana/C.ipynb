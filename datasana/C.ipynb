{
 "cells": [
  {
   "cell_type": "code",
   "execution_count": 2,
   "id": "866395ba-ecd6-4a8f-b122-a1443eb8af37",
   "metadata": {},
   "outputs": [],
   "source": [
    "import pandas as pd\n",
    "import itertools"
   ]
  },
  {
   "cell_type": "code",
   "execution_count": 21,
   "id": "e2682db2-a804-4f9d-89cb-18949ee7d06b",
   "metadata": {},
   "outputs": [
    {
     "data": {
      "text/plain": [
       "[(1, 'a'),\n",
       " (1, 'b'),\n",
       " (1, 'c'),\n",
       " (2, 'a'),\n",
       " (2, 'b'),\n",
       " (2, 'c'),\n",
       " (3, 'a'),\n",
       " (3, 'b'),\n",
       " (3, 'c')]"
      ]
     },
     "execution_count": 21,
     "metadata": {},
     "output_type": "execute_result"
    }
   ],
   "source": [
    "x = [1,2,3]\n",
    "y = [\"a\",\"b\",\"c\"]\n",
    "list(itertools.product(x, y))"
   ]
  },
  {
   "cell_type": "code",
   "execution_count": 20,
   "id": "3d97fb50-c137-4afa-be85-5ff9df0219a0",
   "metadata": {},
   "outputs": [
    {
     "data": {
      "text/html": [
       "<div>\n",
       "<style scoped>\n",
       "    .dataframe tbody tr th:only-of-type {\n",
       "        vertical-align: middle;\n",
       "    }\n",
       "\n",
       "    .dataframe tbody tr th {\n",
       "        vertical-align: top;\n",
       "    }\n",
       "\n",
       "    .dataframe thead th {\n",
       "        text-align: right;\n",
       "    }\n",
       "</style>\n",
       "<table border=\"1\" class=\"dataframe\">\n",
       "  <thead>\n",
       "    <tr style=\"text-align: right;\">\n",
       "      <th></th>\n",
       "      <th>position</th>\n",
       "      <th>face</th>\n",
       "      <th>pose</th>\n",
       "    </tr>\n",
       "  </thead>\n",
       "  <tbody>\n",
       "    <tr>\n",
       "      <th>0</th>\n",
       "      <td>Adho</td>\n",
       "      <td>Mukha</td>\n",
       "      <td>Vrikshasana</td>\n",
       "    </tr>\n",
       "    <tr>\n",
       "      <th>1</th>\n",
       "      <td>Adho</td>\n",
       "      <td>Mukha</td>\n",
       "      <td>Shvanasana</td>\n",
       "    </tr>\n",
       "    <tr>\n",
       "      <th>2</th>\n",
       "      <td>Urdhva</td>\n",
       "      <td>Mukha</td>\n",
       "      <td>Vrikshasana</td>\n",
       "    </tr>\n",
       "    <tr>\n",
       "      <th>3</th>\n",
       "      <td>Urdhva</td>\n",
       "      <td>Mukha</td>\n",
       "      <td>Shvanasana</td>\n",
       "    </tr>\n",
       "  </tbody>\n",
       "</table>\n",
       "</div>"
      ],
      "text/plain": [
       "  position   face         pose\n",
       "0     Adho  Mukha  Vrikshasana\n",
       "1     Adho  Mukha   Shvanasana\n",
       "2   Urdhva  Mukha  Vrikshasana\n",
       "3   Urdhva  Mukha   Shvanasana"
      ]
     },
     "execution_count": 20,
     "metadata": {},
     "output_type": "execute_result"
    }
   ],
   "source": [
    "poses = pd.DataFrame([{\"pose\":\"Vrikshasana\"}, {\"pose\":\"Shvanasana\"}])\n",
    "positions = pd.DataFrame([{\"position\":\"Adho\", \"face\":\"Mukha\"},{\"position\":\"Urdhva\", \"face\":\"Mukha\"}])\n",
    "pd.merge(positions, poses, how=\"cross\")"
   ]
  },
  {
   "cell_type": "code",
   "execution_count": null,
   "id": "27cb9b92-80cf-48e2-916f-117629eff49e",
   "metadata": {},
   "outputs": [],
   "source": []
  }
 ],
 "metadata": {
  "kernelspec": {
   "display_name": "Python 3 (ipykernel)",
   "language": "python",
   "name": "python3"
  },
  "language_info": {
   "codemirror_mode": {
    "name": "ipython",
    "version": 3
   },
   "file_extension": ".py",
   "mimetype": "text/x-python",
   "name": "python",
   "nbconvert_exporter": "python",
   "pygments_lexer": "ipython3",
   "version": "3.9.17"
  }
 },
 "nbformat": 4,
 "nbformat_minor": 5
}
