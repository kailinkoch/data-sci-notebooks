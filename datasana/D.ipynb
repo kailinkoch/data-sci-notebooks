{
 "cells": [
  {
   "cell_type": "code",
   "execution_count": 23,
   "id": "d239fda1-8049-463d-9bbc-3d3ff8ded671",
   "metadata": {},
   "outputs": [],
   "source": [
    "import pandas as pd"
   ]
  },
  {
   "cell_type": "code",
   "execution_count": 31,
   "id": "d1d313ce-e130-4b1f-8a2f-55693749e09b",
   "metadata": {},
   "outputs": [],
   "source": [
    "def dupes_check(yoga_dataset):\n",
    "    print(\"Number of rows: {}\".format(len(yoga_dataset)))\n",
    "    print(\"Number of unique poses: {}\".format(len(yoga_dataset.Asana.unique())))\n",
    "    print(\"Poses unique? \", yoga_dataset.Asana.is_unique)"
   ]
  },
  {
   "cell_type": "code",
   "execution_count": 32,
   "id": "59c50759-9fb2-4c1b-916c-6d2ce2b897dc",
   "metadata": {},
   "outputs": [
    {
     "name": "stdout",
     "output_type": "stream",
     "text": [
      "Number of rows: 95\n",
      "Number of unique poses: 91\n",
      "Poses unique?  False\n"
     ]
    }
   ],
   "source": [
    "yoga_dataset = pd.read_csv(\"yoga_dupes.csv\")\n",
    "dupes_check(yoga_dataset)"
   ]
  },
  {
   "cell_type": "code",
   "execution_count": 22,
   "id": "ce67c87d-0349-489c-b041-83737701dacf",
   "metadata": {},
   "outputs": [
    {
     "data": {
      "text/html": [
       "<div>\n",
       "<style scoped>\n",
       "    .dataframe tbody tr th:only-of-type {\n",
       "        vertical-align: middle;\n",
       "    }\n",
       "\n",
       "    .dataframe tbody tr th {\n",
       "        vertical-align: top;\n",
       "    }\n",
       "\n",
       "    .dataframe thead th {\n",
       "        text-align: right;\n",
       "    }\n",
       "</style>\n",
       "<table border=\"1\" class=\"dataframe\">\n",
       "  <thead>\n",
       "    <tr style=\"text-align: right;\">\n",
       "      <th></th>\n",
       "      <th>Asana</th>\n",
       "      <th>Sanskrit</th>\n",
       "      <th>English</th>\n",
       "      <th>Type</th>\n",
       "    </tr>\n",
       "  </thead>\n",
       "  <tbody>\n",
       "    <tr>\n",
       "      <th>18</th>\n",
       "      <td>Dandasana[49]</td>\n",
       "      <td>दण्डासन</td>\n",
       "      <td>Staff</td>\n",
       "      <td>Sitting</td>\n",
       "    </tr>\n",
       "    <tr>\n",
       "      <th>19</th>\n",
       "      <td>Dandasana[49]</td>\n",
       "      <td>दण्डासन</td>\n",
       "      <td>Staff</td>\n",
       "      <td>Sitting</td>\n",
       "    </tr>\n",
       "    <tr>\n",
       "      <th>20</th>\n",
       "      <td>Dhanurasana[51]</td>\n",
       "      <td>धनुरासन</td>\n",
       "      <td>Bow</td>\n",
       "      <td>Reclining</td>\n",
       "    </tr>\n",
       "    <tr>\n",
       "      <th>21</th>\n",
       "      <td>Dhanurasana[51]</td>\n",
       "      <td>धनुरासन</td>\n",
       "      <td>Bow</td>\n",
       "      <td>Reclining</td>\n",
       "    </tr>\n",
       "    <tr>\n",
       "      <th>22</th>\n",
       "      <td>Dhanurasana[51]</td>\n",
       "      <td>धनुरासन</td>\n",
       "      <td>Bow</td>\n",
       "      <td>Reclining</td>\n",
       "    </tr>\n",
       "    <tr>\n",
       "      <th>23</th>\n",
       "      <td>Durvasasana[52]</td>\n",
       "      <td>दुर्वासासन</td>\n",
       "      <td>Durvasa's Pose</td>\n",
       "      <td>Standing, Balancing</td>\n",
       "    </tr>\n",
       "    <tr>\n",
       "      <th>24</th>\n",
       "      <td>Durvasasana[52]</td>\n",
       "      <td>दुर्वासासन</td>\n",
       "      <td>Durvasa's Pose</td>\n",
       "      <td>Standing, Balancing</td>\n",
       "    </tr>\n",
       "  </tbody>\n",
       "</table>\n",
       "</div>"
      ],
      "text/plain": [
       "              Asana    Sanskrit         English                 Type\n",
       "18    Dandasana[49]     दण्डासन           Staff              Sitting\n",
       "19    Dandasana[49]     दण्डासन           Staff              Sitting\n",
       "20  Dhanurasana[51]     धनुरासन             Bow            Reclining\n",
       "21  Dhanurasana[51]     धनुरासन             Bow            Reclining\n",
       "22  Dhanurasana[51]     धनुरासन             Bow            Reclining\n",
       "23  Durvasasana[52]  दुर्वासासन  Durvasa's Pose  Standing, Balancing\n",
       "24  Durvasasana[52]  दुर्वासासन  Durvasa's Pose  Standing, Balancing"
      ]
     },
     "execution_count": 22,
     "metadata": {},
     "output_type": "execute_result"
    }
   ],
   "source": [
    "yoga_dataset[yoga_dataset.duplicated(keep=False)]"
   ]
  },
  {
   "cell_type": "code",
   "execution_count": 37,
   "id": "73956f9a-e408-46da-b478-70f4203712b3",
   "metadata": {},
   "outputs": [
    {
     "data": {
      "text/html": [
       "<div>\n",
       "<style scoped>\n",
       "    .dataframe tbody tr th:only-of-type {\n",
       "        vertical-align: middle;\n",
       "    }\n",
       "\n",
       "    .dataframe tbody tr th {\n",
       "        vertical-align: top;\n",
       "    }\n",
       "\n",
       "    .dataframe thead th {\n",
       "        text-align: right;\n",
       "    }\n",
       "</style>\n",
       "<table border=\"1\" class=\"dataframe\">\n",
       "  <thead>\n",
       "    <tr style=\"text-align: right;\">\n",
       "      <th></th>\n",
       "      <th>Asana</th>\n",
       "      <th>Sanskrit</th>\n",
       "      <th>English</th>\n",
       "      <th>Type</th>\n",
       "    </tr>\n",
       "  </thead>\n",
       "  <tbody>\n",
       "    <tr>\n",
       "      <th>19</th>\n",
       "      <td>Dandasana[49]</td>\n",
       "      <td>दण्डासन</td>\n",
       "      <td>Staff</td>\n",
       "      <td>Sitting</td>\n",
       "    </tr>\n",
       "    <tr>\n",
       "      <th>21</th>\n",
       "      <td>Dhanurasana[51]</td>\n",
       "      <td>धनुरासन</td>\n",
       "      <td>Bow</td>\n",
       "      <td>Reclining</td>\n",
       "    </tr>\n",
       "    <tr>\n",
       "      <th>22</th>\n",
       "      <td>Dhanurasana[51]</td>\n",
       "      <td>धनुरासन</td>\n",
       "      <td>Bow</td>\n",
       "      <td>Reclining</td>\n",
       "    </tr>\n",
       "    <tr>\n",
       "      <th>24</th>\n",
       "      <td>Durvasasana[52]</td>\n",
       "      <td>दुर्वासासन</td>\n",
       "      <td>Durvasa's Pose</td>\n",
       "      <td>Standing, Balancing</td>\n",
       "    </tr>\n",
       "  </tbody>\n",
       "</table>\n",
       "</div>"
      ],
      "text/plain": [
       "              Asana    Sanskrit         English                 Type\n",
       "19    Dandasana[49]     दण्डासन           Staff              Sitting\n",
       "21  Dhanurasana[51]     धनुरासन             Bow            Reclining\n",
       "22  Dhanurasana[51]     धनुरासन             Bow            Reclining\n",
       "24  Durvasasana[52]  दुर्वासासन  Durvasa's Pose  Standing, Balancing"
      ]
     },
     "execution_count": 37,
     "metadata": {},
     "output_type": "execute_result"
    }
   ],
   "source": [
    "yoga_dataset[yoga_dataset.duplicated(keep=\"first\")]"
   ]
  },
  {
   "cell_type": "code",
   "execution_count": 38,
   "id": "6ada9842-6c3a-45f4-bb1e-7e21a29d2da5",
   "metadata": {},
   "outputs": [
    {
     "name": "stdout",
     "output_type": "stream",
     "text": [
      "Number of rows: 91\n",
      "Number of unique poses: 91\n",
      "Poses unique?  True\n"
     ]
    }
   ],
   "source": [
    "yoga_dataset.drop_duplicates(inplace=True)\n",
    "dupes_check(yoga_dataset)"
   ]
  },
  {
   "cell_type": "code",
   "execution_count": null,
   "id": "f451a785-9529-4d14-891a-28fabbc04128",
   "metadata": {},
   "outputs": [],
   "source": []
  }
 ],
 "metadata": {
  "kernelspec": {
   "display_name": "Python 3 (ipykernel)",
   "language": "python",
   "name": "python3"
  },
  "language_info": {
   "codemirror_mode": {
    "name": "ipython",
    "version": 3
   },
   "file_extension": ".py",
   "mimetype": "text/x-python",
   "name": "python",
   "nbconvert_exporter": "python",
   "pygments_lexer": "ipython3",
   "version": "3.9.17"
  }
 },
 "nbformat": 4,
 "nbformat_minor": 5
}
